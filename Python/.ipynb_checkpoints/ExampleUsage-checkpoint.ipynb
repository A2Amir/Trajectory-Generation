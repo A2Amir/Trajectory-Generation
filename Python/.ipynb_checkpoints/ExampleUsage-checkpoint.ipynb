{
 "cells": [
  {
   "cell_type": "code",
   "execution_count": 36,
   "metadata": {
    "collapsed": false
   },
   "outputs": [],
   "source": [
    "from ptg import PTG\n",
    "from helpers import Vehicle, to_equation\n",
    "from matplotlib import pyplot as plt"
   ]
  },
  {
   "cell_type": "code",
   "execution_count": 37,
   "metadata": {
    "collapsed": true
   },
   "outputs": [],
   "source": [
    "\n",
    "def show_trajectory(traj, vehicle=None):\n",
    "    s_coeffs, d_coeffs, t = traj\n",
    "    s = to_equation(s_coeffs)\n",
    "    d = to_equation(d_coeffs)\n",
    "    X = []\n",
    "    Y = []\n",
    "    if vehicle:\n",
    "        X2 = []\n",
    "        Y2 = []\n",
    "    t = 0\n",
    "    while t <= T:\n",
    "        X.append(s(t))\n",
    "        Y.append(d(t))\n",
    "        if vehicle:\n",
    "            s_, _, _, d_, _, _ = vehicle.state_in(t)\n",
    "            X2.append(s_)\n",
    "            Y2.append(d_)\n",
    "        t += 0.25\n",
    "    plt.scatter(X,Y, color=\"blue\")\n",
    "    if vehicle:\n",
    "        plt.scatter(X2, Y2, color=\"red\")\n",
    "    plt.show()"
   ]
  },
  {
   "cell_type": "code",
   "execution_count": 38,
   "metadata": {
    "collapsed": false
   },
   "outputs": [],
   "source": [
    "straight_in_left = Vehicle([\n",
    "        0, 10, 0,\n",
    "        0, 0, 0\n",
    "    ])\n",
    "\n",
    "traffic = {\n",
    "    0 : straight_in_left,\n",
    "}\n",
    "\n",
    "start_s = [0, 5, 0]\n",
    "start_d  = [4, 0, 0]\n",
    "target_vehicle = 0\n",
    "delta = [6, 0, 0, 0, 0, 0]\n",
    "T = 6"
   ]
  },
  {
   "cell_type": "code",
   "execution_count": 39,
   "metadata": {
    "collapsed": false
   },
   "outputs": [],
   "source": [
    "traj = PTG(start_s,start_d, target_vehicle, delta, T, traffic)"
   ]
  },
  {
   "cell_type": "code",
   "execution_count": 40,
   "metadata": {
    "collapsed": false
   },
   "outputs": [],
   "source": [
    "show_trajectory(traj, straight_in_left)"
   ]
  },
  {
   "cell_type": "code",
   "execution_count": 34,
   "metadata": {
    "collapsed": false
   },
   "outputs": [
    {
     "data": {
      "text/plain": [
       "[60.0, 10, 0, 0.0, 0, 0]"
      ]
     },
     "execution_count": 34,
     "metadata": {},
     "output_type": "execute_result"
    }
   ],
   "source": [
    "straight_in_left.state_in(6)"
   ]
  },
  {
   "cell_type": "code",
   "execution_count": 35,
   "metadata": {
    "collapsed": false
   },
   "outputs": [
    {
     "data": {
      "text/plain": [
       "-14.516281491312483"
      ]
     },
     "execution_count": 35,
     "metadata": {},
     "output_type": "execute_result"
    }
   ],
   "source": [
    "to_equation(traj[0])(6)"
   ]
  },
  {
   "cell_type": "code",
   "execution_count": null,
   "metadata": {
    "collapsed": true
   },
   "outputs": [],
   "source": []
  }
 ],
 "metadata": {
  "kernelspec": {
   "display_name": "Python 2",
   "language": "python",
   "name": "python2"
  },
  "language_info": {
   "codemirror_mode": {
    "name": "ipython",
    "version": 2
   },
   "file_extension": ".py",
   "mimetype": "text/x-python",
   "name": "python",
   "nbconvert_exporter": "python",
   "pygments_lexer": "ipython2",
   "version": "2.7.10"
  }
 },
 "nbformat": 4,
 "nbformat_minor": 0
}
